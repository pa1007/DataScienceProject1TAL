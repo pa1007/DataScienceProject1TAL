{
 "cells": [
  {
   "cell_type": "code",
   "execution_count": null,
   "outputs": [],
   "source": [
    "import json\n",
    "import string\n",
    "\n",
    "import pandas as pd\n",
    "import wikipedia\n",
    "import wptools\n",
    "from SPARQLWrapper import SPARQLWrapper, JSON\n",
    "from nltk import pos_tag\n",
    "from nltk import word_tokenize\n",
    "from nltk.corpus import stopwords\n",
    "from nltk.stem.porter import PorterStemmer\n",
    "from nltk.tokenize import sent_tokenize"
   ],
   "metadata": {
    "collapsed": false,
    "pycharm": {
     "name": "#%%\n"
    }
   }
  },
  {
   "cell_type": "code",
   "execution_count": null,
   "outputs": [],
   "source": [
    "catType = {\"Airports\": \"?a a dbo:Infrastructure .\", \"Comics_characters\": \"?a a dbo:Agent .\",\n",
    "           \"Artist\": \"?a a dbo:Animal .\",\n",
    "           \"Astronauts\": '?a a dbo:Animal .', \"Building\": \"?a a dbo:Building .\", \"Astronomical_objects\": \"\",\n",
    "           \"City\": \"?a a dbo:Place .\", \"Companies\": \"?a a dbo:Company .\", \"Foods\": \"?a a dbo:Food .\",\n",
    "           \"Transport\": \"?a a dbo:MeanOfTransportation .\", \"Monuments_and_memorials\": \"?a a dbo:Place .\",\n",
    "           \"Politicians\": \"?a a dbo:Animal .\", \"Sports_teams\": \"?a a dbo:Organisation .\",\n",
    "           \"Sportspeople\": \"?a a dbo:Animal .\", \"Universities_and_colleges\": \"?a a dbo:Organisation .\",\n",
    "           \"Written_communication\": \"\"}\n",
    "stop_words = stopwords.words('english')\n",
    "porter = PorterStemmer()\n",
    "sparql_dbpedia = SPARQLWrapper(\"http://dbpedia.org/sparql\")\n",
    "sparql_dbpedia.setReturnFormat(JSON)\n",
    "sparql_wd = SPARQLWrapper(\"https://query.wikidata.org/sparql\")\n",
    "sparql_wd.setReturnFormat(JSON)"
   ],
   "metadata": {
    "collapsed": false,
    "pycharm": {
     "name": "#%%\n"
    }
   }
  },
  {
   "cell_type": "code",
   "execution_count": null,
   "outputs": [],
   "source": [
    "k = 10\n",
    "n = 2"
   ],
   "metadata": {
    "collapsed": false,
    "pycharm": {
     "name": "#%%\n"
    }
   }
  },
  {
   "cell_type": "markdown",
   "source": [
    "## Exercise 1 :"
   ],
   "metadata": {
    "collapsed": false,
    "pycharm": {
     "name": "#%% md\n"
    }
   }
  },
  {
   "cell_type": "code",
   "execution_count": null,
   "outputs": [],
   "source": [
    "data = []\n",
    "for cat in catType:\n",
    "    SPARQL_GET_LISTS = f'''\n",
    "    PREFIX dbr: <http://dbpedia.org/resource/>\n",
    "    PREFIX dbp: <http://dbpedia.org/property/>\n",
    "    PREFIX dbc: <http://dbpedia.org/resource/Category:>\n",
    "    PREFIX skos: <http://www.w3.org/2004/02/skos/core#>\n",
    "    PREFIX dct: <http://purl.org/dc/terms/>\n",
    "\n",
    "    SELECT DISTINCT ?page ?p ?code WHERE {{\n",
    "    ?a dct:subject/skos:broader dbc:{cat} .\n",
    "    {catType[cat]}\n",
    "    ?a rdfs:label ?label .\n",
    "    ?a foaf:name ?page .\n",
    "    ?p foaf:primaryTopic ?a .\n",
    "    ?a dbo:wikiPageID ?code .\n",
    "    FILTER (lang(?label) = 'en')\n",
    "    FILTER(!STRSTARTS(?label, \"List of\"))\n",
    "    }}limit {k}\n",
    "    '''\n",
    "    sparql_dbpedia.setQuery(SPARQL_GET_LISTS)\n",
    "    try:\n",
    "        ret = sparql_dbpedia.queryAndConvert()\n",
    "        for r in ret[\"results\"][\"bindings\"]:\n",
    "            url_name = r[\"code\"]['value']  #re.findall(\"([^/]+$)\", url)[0]\n",
    "            page = wikipedia.page(pageid=url_name)\n",
    "            cont = page.content\n",
    "            number_of_sentences = len(sent_tokenize(cont))\n",
    "            if number_of_sentences >= n:\n",
    "                p = wptools.page(pageid=url_name, silent=True)\n",
    "                p.get_parse()\n",
    "                p.get_wikidata()\n",
    "                data.append(\n",
    "                    {\"name\": r[\"page\"]['value'], \"url_name\": url_name, \"txt\": page.content,\n",
    "                     \"infobox\": p.data[\"infobox\"],\n",
    "                     \"wikidata\": p.data[\"wikidata\"],\n",
    "                     \"cat\": cat, \"url\": r[\"p\"]['value'], \"wikibase\": p.data[\"wikibase\"]})\n",
    "    except Exception as e:\n",
    "        print()\n",
    "\n",
    "with open(\"data.json\", \"w\") as f:\n",
    "    json.dump(data, f)\n"
   ],
   "metadata": {
    "collapsed": false,
    "pycharm": {
     "name": "#%%\n"
    }
   }
  },
  {
   "cell_type": "markdown",
   "source": [
    "## Exercise 2 :\n"
   ],
   "metadata": {
    "collapsed": false,
    "pycharm": {
     "name": "#%% md\n"
    }
   }
  },
  {
   "cell_type": "code",
   "execution_count": null,
   "outputs": [],
   "source": [
    "file = open(\"data.json\", \"r\")\n",
    "data_to_process = json.load(file)"
   ],
   "metadata": {
    "collapsed": false,
    "pycharm": {
     "name": "#%%\n"
    }
   }
  },
  {
   "cell_type": "code",
   "execution_count": null,
   "outputs": [],
   "source": [
    "\n",
    "\n",
    "\n",
    "def preprocess(txt):\n",
    "    if type(txt) == str:\n",
    "        text = txt.lower()\n",
    "        text_p = \"\".join([char for char in text if char not in string.punctuation])\n",
    "        words = word_tokenize(text_p)\n",
    "        filtered_words = [word for word in words if word not in stop_words]\n",
    "        stemmed = [porter.stem(word) for word in filtered_words]\n",
    "        pos = pos_tag(stemmed)\n",
    "        return pos, stemmed\n",
    "    else:\n",
    "        return txt\n",
    "\n",
    "\n",
    "def getDescription(items):\n",
    "    item = \" wd:\".join(items)\n",
    "    SPARQL_DESCR = f'''\n",
    "    PREFIX wd: <http://www.wikidata.org/entity/>\n",
    "    PREFIX schema: <http://schema.org/>\n",
    "    SELECT distinct ?o ?item WHERE {{\n",
    "    ?item schema:description ?o .\n",
    "    FILTER ( lang(?o) = \"en\" )\n",
    "    VALUES ?item {{ wd:{item} }}\n",
    "    }}\n",
    "    '''\n",
    "    sparql_wd.setQuery(SPARQL_DESCR)\n",
    "    try:\n",
    "        res = sparql_wd.queryAndConvert()\n",
    "        retu = {}\n",
    "        for x in res[\"results\"][\"bindings\"]:\n",
    "            retu.update({x['item']['value'].replace(\"http://www.wikidata.org/entity/\", \"\"): x['o']['value']})\n",
    "        return retu\n",
    "    except Exception as e:\n",
    "        print(e)\n",
    "\n",
    "\n",
    "res = []\n",
    "to_get = []\n",
    "for item in data_to_process:\n",
    "    txt = preprocess(item[\"txt\"])\n",
    "    to_get.append(item[\"wikibase\"])\n",
    "    res.append(\n",
    "        {\"person\": item['name'], \"text\": item['txt'], \"processed_text\": txt, \"desc\": \"\", \"processed_desc\": \"\",\n",
    "         \"cat\": item['cat'], \"base\": item[\"wikibase\"]})\n",
    "\n",
    "descr = getDescription(to_get)\n",
    "for x in res:\n",
    "    x.update({\"desc\": descr.get(x['base']), \"processed_desc\": preprocess(descr.get(x['base']))})\n",
    "\n",
    "df = pd.DataFrame(res)"
   ],
   "metadata": {
    "collapsed": false,
    "pycharm": {
     "name": "#%%\n"
    }
   }
  },
  {
   "cell_type": "code",
   "execution_count": null,
   "outputs": [],
   "source": [
    "with open(\"dataframe.json\",\"w\") as f :\n",
    "    f.write(df.to_json())"
   ],
   "metadata": {
    "collapsed": false,
    "pycharm": {
     "name": "#%%\n"
    }
   }
  },
  {
   "cell_type": "code",
   "execution_count": 30,
   "outputs": [],
   "source": [
    "with open(\"dataframe.json\",\"w\") as f :\n",
    "    f.write(df.to_json())"
   ],
   "metadata": {
    "collapsed": false,
    "pycharm": {
     "name": "#%%\n"
    }
   }
  }
 ],
 "metadata": {
  "kernelspec": {
   "display_name": "Python 3",
   "language": "python",
   "name": "python3"
  },
  "language_info": {
   "codemirror_mode": {
    "name": "ipython",
    "version": 2
   },
   "file_extension": ".py",
   "mimetype": "text/x-python",
   "name": "python",
   "nbconvert_exporter": "python",
   "pygments_lexer": "ipython2",
   "version": "2.7.6"
  }
 },
 "nbformat": 4,
 "nbformat_minor": 0
}