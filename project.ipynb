{
 "cells": [
  {
   "cell_type": "code",
   "execution_count": null,
   "metadata": {
    "collapsed": true
   },
   "outputs": [],
   "source": [
    "cat = \"Comics_characters\"\n",
    "\n",
    "catType = {\"Airports\": \"?a a dbo:Infrastructure\", \"Comics_characters\": \"?a a dbo:Agent\", \"Artist\": \"?a a dbo:Animal\",\n",
    "           \"Astronauts\": '?a a dbo:Animal', \"Building\": \"?a a dbo:Building\", \"Astronomical_objects\": \"\",\n",
    "           \"City\": \"?a a dbo:Place\", \"Companies\": \"?a a dbo:Company .\",\"Foods\":\"\"}\n",
    "k = 100\n",
    "SPARQL_GET_LISTS = f'''\n",
    "PREFIX dbr: <http://dbpedia.org/resource/>\n",
    "PREFIX dbp: <http://dbpedia.org/property/>\n",
    "PREFIX dbc: <http://dbpedia.org/resource/Category:>\n",
    "PREFIX skos: <http://www.w3.org/2004/02/skos/core#>\n",
    "PREFIX dct: <http://purl.org/dc/terms/>\n",
    "\n",
    "SELECT DISTINCT * WHERE {{\n",
    "?a dct:subject/skos:broader* dbc:{cat} .\n",
    "{catType[cat]}\n",
    "?a rdfs:label ?label .\n",
    "FILTER(!STRSTARTS(?label, \"List of\"))\n",
    "}}limit {k}\n",
    "'''\n",
    "\n"
   ]
  }
 ],
 "metadata": {
  "kernelspec": {
   "display_name": "Python 3",
   "language": "python",
   "name": "python3"
  },
  "language_info": {
   "codemirror_mode": {
    "name": "ipython",
    "version": 2
   },
   "file_extension": ".py",
   "mimetype": "text/x-python",
   "name": "python",
   "nbconvert_exporter": "python",
   "pygments_lexer": "ipython2",
   "version": "2.7.6"
  }
 },
 "nbformat": 4,
 "nbformat_minor": 0
}