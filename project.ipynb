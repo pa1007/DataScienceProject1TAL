{
 "cells": [
  {
   "cell_type": "code",
   "execution_count": null,
   "metadata": {
    "collapsed": true
   },
   "outputs": [],
   "source": [
    "cat = \"Comics_characters\"\n",
    "\n",
    "catType = {\"Airports\":\"Infrastructure\",\"Comics_characters\":\"Agent\",\"Artist\":\"Animal\",\"Astronauts\":'Animal',\"Building\":\"\"}\n",
    "k = 100\n",
    "SPARQL_GET_LISTS = f'''\n",
    "PREFIX dbr: <http://dbpedia.org/resource/>\n",
    "PREFIX dbp: <http://dbpedia.org/property/>\n",
    "PREFIX dbc: <http://dbpedia.org/resource/Category:>\n",
    "PREFIX skos: <http://www.w3.org/2004/02/skos/core#>\n",
    "PREFIX dct: <http://purl.org/dc/terms/>\n",
    "\n",
    "SELECT DISTINCT * WHERE {{\n",
    "?a dcterms:subject/skos:broader dbc:{cat} .\n",
    "?a a dbo:{catType[cat]}\n",
    "}}limit {k}\n",
    "'''\n",
    "\n"
   ]
  }
 ],
 "metadata": {
  "kernelspec": {
   "display_name": "Python 3",
   "language": "python",
   "name": "python3"
  },
  "language_info": {
   "codemirror_mode": {
    "name": "ipython",
    "version": 2
   },
   "file_extension": ".py",
   "mimetype": "text/x-python",
   "name": "python",
   "nbconvert_exporter": "python",
   "pygments_lexer": "ipython2",
   "version": "2.7.6"
  }
 },
 "nbformat": 4,
 "nbformat_minor": 0
}