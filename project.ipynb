{
 "cells": [
  {
   "cell_type": "code",
   "execution_count": 1,
   "outputs": [],
   "source": [
    "from SPARQLWrapper import SPARQLWrapper, JSON"
   ],
   "metadata": {
    "collapsed": false,
    "pycharm": {
     "name": "#%%\n"
    }
   }
  },
  {
   "cell_type": "code",
   "execution_count": 2,
   "outputs": [],
   "source": [
    "k = 100\n",
    "n = 20"
   ],
   "metadata": {
    "collapsed": false,
    "pycharm": {
     "name": "#%%\n"
    }
   }
  },
  {
   "cell_type": "code",
   "execution_count": 3,
   "metadata": {
    "collapsed": true,
    "pycharm": {
     "name": "#%%\n"
    }
   },
   "outputs": [
    {
     "name": "stdout",
     "output_type": "stream",
     "text": [
      "Airports\n",
      "Comics_characters\n",
      "Artist\n",
      "Astronauts\n",
      "Building\n",
      "Astronomical_objects\n",
      "City\n",
      "Companies\n",
      "Foods\n",
      "Transport\n",
      "Monuments_and_memorials\n",
      "Politicians\n",
      "Sports_teams\n",
      "Sportspeople\n",
      "Universities_and_colleges\n",
      "Written_communication\n"
     ]
    }
   ],
   "source": [
    "catType = {\"Airports\": \"?a a dbo:Infrastructure .\", \"Comics_characters\": \"?a a dbo:Agent .\",\n",
    "           \"Artist\": \"?a a dbo:Animal .\",\n",
    "           \"Astronauts\": '?a a dbo:Animal .', \"Building\": \"?a a dbo:Building .\", \"Astronomical_objects\": \"\",\n",
    "           \"City\": \"?a a dbo:Place\", \"Companies\": \"?a a dbo:Company .\", \"Foods\": \"?a a dbo:Food .\",\n",
    "           \"Transport\": \"?a a dbo:MeanOfTransportation .\", \"Monuments_and_memorials\": \"?a a dbo:Place .\",\n",
    "           \"Politicians\": \"?a a dbo:Animal .\", \"Sports_teams\": \"?a a dbo:Organisation .\",\n",
    "           \"Sportspeople\": \"?a a dbo:Animal .\", \"Universities_and_colleges\": \"?a a dbo:Organisation .\",\n",
    "           \"Written_communication\": \"\"}\n",
    "\n",
    "sparql = SPARQLWrapper(\"http://dbpedia.org\")\n",
    "sparql.setReturnFormat(JSON)\n",
    "for cat in catType:\n",
    "    SPARQL_GET_LISTS = f'''\n",
    "    PREFIX dbr: <http://dbpedia.org/resource/>\n",
    "    PREFIX dbp: <http://dbpedia.org/property/>\n",
    "    PREFIX dbc: <http://dbpedia.org/resource/Category:>\n",
    "    PREFIX skos: <http://www.w3.org/2004/02/skos/core#>\n",
    "    PREFIX dct: <http://purl.org/dc/terms/>\n",
    "\n",
    "    SELECT DISTINCT * WHERE {{\n",
    "    ?a dct:subject/skos:broader* dbc:{cat} .\n",
    "    {catType[cat]}\n",
    "    ?a rdfs:label ?label .\n",
    "    FILTER (lang(?label) = 'en')\n",
    "    FILTER(!STRSTARTS(?label, \"List of\"))\n",
    "    }}limit {k}\n",
    "    '''\n",
    "    sparql.setQuery(SPARQL_GET_LISTS)\n",
    "    try:\n",
    "        ret = sparql.queryAndConvert()\n",
    "\n",
    "        for r in ret[\"results\"][\"bindings\"]:\n",
    "            print(r)\n",
    "    except Exception as e:\n",
    "        print(e)\n",
    "\n"
   ]
  }
 ],
 "metadata": {
  "kernelspec": {
   "display_name": "Python 3",
   "language": "python",
   "name": "python3"
  },
  "language_info": {
   "codemirror_mode": {
    "name": "ipython",
    "version": 2
   },
   "file_extension": ".py",
   "mimetype": "text/x-python",
   "name": "python",
   "nbconvert_exporter": "python",
   "pygments_lexer": "ipython2",
   "version": "2.7.6"
  }
 },
 "nbformat": 4,
 "nbformat_minor": 0
}