{
 "cells": [
  {
   "cell_type": "code",
   "execution_count": 4,
   "id": "41e8a72b",
   "metadata": {},
   "outputs": [],
   "source": [
    "from sklearn.cluster import KMeans"
   ]
  },
  {
   "cell_type": "code",
   "execution_count": 7,
   "id": "0c860eb2",
   "metadata": {},
   "outputs": [],
   "source": [
    "def train_cluster(nb, x, y): \n",
    "    X = x[y]\n",
    "\n",
    "    tfidfvectorizer = TfidfVectorizer(max_features=8000,\n",
    "                                     use_idf=True,\n",
    "                                     tokenizer=nltk.word_tokenize,ngram_range=(1,3))\n",
    "\n",
    "    tfidfmatrix = tfidfvectorizer.fit_transform(X)\n",
    "    km= KMeans(nb)\n",
    "    km.fit(tfidfmatrix)\n",
    "    x['cluster']=km.labels_\n",
    "    return x"
   ]
  }
 ],
 "metadata": {
  "kernelspec": {
   "display_name": "Python 3",
   "language": "python",
   "name": "python3"
  },
  "language_info": {
   "codemirror_mode": {
    "name": "ipython",
    "version": 3
   },
   "file_extension": ".py",
   "mimetype": "text/x-python",
   "name": "python",
   "nbconvert_exporter": "python",
   "pygments_lexer": "ipython3",
   "version": "3.8.8"
  }
 },
 "nbformat": 4,
 "nbformat_minor": 5
}
